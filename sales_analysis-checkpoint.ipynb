{
 "cells": [
  {
   "cell_type": "code",
   "execution_count": 1,
   "id": "6c6b50ec-f903-4bb2-91b8-a6ca4c4f2546",
   "metadata": {},
   "outputs": [
    {
     "name": "stdout",
     "output_type": "stream",
     "text": [
      "Requirement already satisfied: pandas in c:\\users\\janan\\anaconda3\\lib\\site-packages (2.2.2)\n",
      "Requirement already satisfied: matplotlib in c:\\users\\janan\\anaconda3\\lib\\site-packages (3.9.2)\n",
      "Requirement already satisfied: numpy>=1.26.0 in c:\\users\\janan\\anaconda3\\lib\\site-packages (from pandas) (1.26.4)\n",
      "Requirement already satisfied: python-dateutil>=2.8.2 in c:\\users\\janan\\anaconda3\\lib\\site-packages (from pandas) (2.9.0.post0)\n",
      "Requirement already satisfied: pytz>=2020.1 in c:\\users\\janan\\anaconda3\\lib\\site-packages (from pandas) (2024.1)\n",
      "Requirement already satisfied: tzdata>=2022.7 in c:\\users\\janan\\anaconda3\\lib\\site-packages (from pandas) (2023.3)\n",
      "Requirement already satisfied: contourpy>=1.0.1 in c:\\users\\janan\\anaconda3\\lib\\site-packages (from matplotlib) (1.2.0)\n",
      "Requirement already satisfied: cycler>=0.10 in c:\\users\\janan\\anaconda3\\lib\\site-packages (from matplotlib) (0.11.0)\n",
      "Requirement already satisfied: fonttools>=4.22.0 in c:\\users\\janan\\anaconda3\\lib\\site-packages (from matplotlib) (4.51.0)\n",
      "Requirement already satisfied: kiwisolver>=1.3.1 in c:\\users\\janan\\anaconda3\\lib\\site-packages (from matplotlib) (1.4.4)\n",
      "Requirement already satisfied: packaging>=20.0 in c:\\users\\janan\\anaconda3\\lib\\site-packages (from matplotlib) (23.2)\n",
      "Requirement already satisfied: pillow>=8 in c:\\users\\janan\\anaconda3\\lib\\site-packages (from matplotlib) (10.3.0)\n",
      "Requirement already satisfied: pyparsing>=2.3.1 in c:\\users\\janan\\anaconda3\\lib\\site-packages (from matplotlib) (3.0.9)\n",
      "Requirement already satisfied: six>=1.5 in c:\\users\\janan\\anaconda3\\lib\\site-packages (from python-dateutil>=2.8.2->pandas) (1.16.0)\n"
     ]
    }
   ],
   "source": [
    "!pip install pandas matplotlib"
   ]
  },
  {
   "cell_type": "code",
   "execution_count": 73,
   "id": "df826cd8-4ab7-42ef-9915-982bb38735f5",
   "metadata": {},
   "outputs": [],
   "source": [
    "import pandas as pd\n",
    "import matplotlib.pyplot as plt"
   ]
  },
  {
   "cell_type": "code",
   "execution_count": 75,
   "id": "579655bc-bbb1-4f78-860f-820e4b2d8c3e",
   "metadata": {},
   "outputs": [],
   "source": [
    "df = pd.read_csv(\"store_sales.csv\")"
   ]
  },
  {
   "cell_type": "code",
   "execution_count": 77,
   "id": "a6f75c34-2dc8-48be-bdfd-259efe6bd276",
   "metadata": {},
   "outputs": [
    {
     "data": {
      "text/html": [
       "<div>\n",
       "<style scoped>\n",
       "    .dataframe tbody tr th:only-of-type {\n",
       "        vertical-align: middle;\n",
       "    }\n",
       "\n",
       "    .dataframe tbody tr th {\n",
       "        vertical-align: top;\n",
       "    }\n",
       "\n",
       "    .dataframe thead th {\n",
       "        text-align: right;\n",
       "    }\n",
       "</style>\n",
       "<table border=\"1\" class=\"dataframe\">\n",
       "  <thead>\n",
       "    <tr style=\"text-align: right;\">\n",
       "      <th></th>\n",
       "      <th>date</th>\n",
       "      <th>store</th>\n",
       "      <th>sales</th>\n",
       "      <th>promo</th>\n",
       "      <th>holiday</th>\n",
       "    </tr>\n",
       "  </thead>\n",
       "  <tbody>\n",
       "    <tr>\n",
       "      <th>0</th>\n",
       "      <td>2022-01-01</td>\n",
       "      <td>1</td>\n",
       "      <td>184.78</td>\n",
       "      <td>0</td>\n",
       "      <td>0</td>\n",
       "    </tr>\n",
       "    <tr>\n",
       "      <th>1</th>\n",
       "      <td>2022-01-02</td>\n",
       "      <td>1</td>\n",
       "      <td>192.62</td>\n",
       "      <td>0</td>\n",
       "      <td>0</td>\n",
       "    </tr>\n",
       "    <tr>\n",
       "      <th>2</th>\n",
       "      <td>2022-01-03</td>\n",
       "      <td>1</td>\n",
       "      <td>212.68</td>\n",
       "      <td>0</td>\n",
       "      <td>0</td>\n",
       "    </tr>\n",
       "    <tr>\n",
       "      <th>3</th>\n",
       "      <td>2022-01-04</td>\n",
       "      <td>1</td>\n",
       "      <td>249.58</td>\n",
       "      <td>1</td>\n",
       "      <td>0</td>\n",
       "    </tr>\n",
       "    <tr>\n",
       "      <th>4</th>\n",
       "      <td>2022-01-05</td>\n",
       "      <td>1</td>\n",
       "      <td>223.50</td>\n",
       "      <td>0</td>\n",
       "      <td>0</td>\n",
       "    </tr>\n",
       "    <tr>\n",
       "      <th>...</th>\n",
       "      <td>...</td>\n",
       "      <td>...</td>\n",
       "      <td>...</td>\n",
       "      <td>...</td>\n",
       "      <td>...</td>\n",
       "    </tr>\n",
       "    <tr>\n",
       "      <th>7295</th>\n",
       "      <td>2023-12-27</td>\n",
       "      <td>10</td>\n",
       "      <td>242.08</td>\n",
       "      <td>0</td>\n",
       "      <td>0</td>\n",
       "    </tr>\n",
       "    <tr>\n",
       "      <th>7296</th>\n",
       "      <td>2023-12-28</td>\n",
       "      <td>10</td>\n",
       "      <td>235.35</td>\n",
       "      <td>0</td>\n",
       "      <td>0</td>\n",
       "    </tr>\n",
       "    <tr>\n",
       "      <th>7297</th>\n",
       "      <td>2023-12-29</td>\n",
       "      <td>10</td>\n",
       "      <td>222.82</td>\n",
       "      <td>0</td>\n",
       "      <td>0</td>\n",
       "    </tr>\n",
       "    <tr>\n",
       "      <th>7298</th>\n",
       "      <td>2023-12-30</td>\n",
       "      <td>10</td>\n",
       "      <td>236.04</td>\n",
       "      <td>1</td>\n",
       "      <td>0</td>\n",
       "    </tr>\n",
       "    <tr>\n",
       "      <th>7299</th>\n",
       "      <td>2023-12-31</td>\n",
       "      <td>10</td>\n",
       "      <td>208.29</td>\n",
       "      <td>0</td>\n",
       "      <td>0</td>\n",
       "    </tr>\n",
       "  </tbody>\n",
       "</table>\n",
       "<p>7300 rows × 5 columns</p>\n",
       "</div>"
      ],
      "text/plain": [
       "            date  store   sales  promo  holiday\n",
       "0     2022-01-01      1  184.78      0        0\n",
       "1     2022-01-02      1  192.62      0        0\n",
       "2     2022-01-03      1  212.68      0        0\n",
       "3     2022-01-04      1  249.58      1        0\n",
       "4     2022-01-05      1  223.50      0        0\n",
       "...          ...    ...     ...    ...      ...\n",
       "7295  2023-12-27     10  242.08      0        0\n",
       "7296  2023-12-28     10  235.35      0        0\n",
       "7297  2023-12-29     10  222.82      0        0\n",
       "7298  2023-12-30     10  236.04      1        0\n",
       "7299  2023-12-31     10  208.29      0        0\n",
       "\n",
       "[7300 rows x 5 columns]"
      ]
     },
     "execution_count": 77,
     "metadata": {},
     "output_type": "execute_result"
    }
   ],
   "source": [
    "df"
   ]
  },
  {
   "cell_type": "code",
   "execution_count": 79,
   "id": "d6b2ca9c-7724-455d-a27c-f712611406b4",
   "metadata": {},
   "outputs": [
    {
     "data": {
      "text/html": [
       "<div>\n",
       "<style scoped>\n",
       "    .dataframe tbody tr th:only-of-type {\n",
       "        vertical-align: middle;\n",
       "    }\n",
       "\n",
       "    .dataframe tbody tr th {\n",
       "        vertical-align: top;\n",
       "    }\n",
       "\n",
       "    .dataframe thead th {\n",
       "        text-align: right;\n",
       "    }\n",
       "</style>\n",
       "<table border=\"1\" class=\"dataframe\">\n",
       "  <thead>\n",
       "    <tr style=\"text-align: right;\">\n",
       "      <th></th>\n",
       "      <th>date</th>\n",
       "      <th>store</th>\n",
       "      <th>sales</th>\n",
       "      <th>promo</th>\n",
       "      <th>holiday</th>\n",
       "    </tr>\n",
       "  </thead>\n",
       "  <tbody>\n",
       "    <tr>\n",
       "      <th>0</th>\n",
       "      <td>2022-01-01</td>\n",
       "      <td>1</td>\n",
       "      <td>184.78</td>\n",
       "      <td>0</td>\n",
       "      <td>0</td>\n",
       "    </tr>\n",
       "    <tr>\n",
       "      <th>1</th>\n",
       "      <td>2022-01-02</td>\n",
       "      <td>1</td>\n",
       "      <td>192.62</td>\n",
       "      <td>0</td>\n",
       "      <td>0</td>\n",
       "    </tr>\n",
       "    <tr>\n",
       "      <th>2</th>\n",
       "      <td>2022-01-03</td>\n",
       "      <td>1</td>\n",
       "      <td>212.68</td>\n",
       "      <td>0</td>\n",
       "      <td>0</td>\n",
       "    </tr>\n",
       "    <tr>\n",
       "      <th>3</th>\n",
       "      <td>2022-01-04</td>\n",
       "      <td>1</td>\n",
       "      <td>249.58</td>\n",
       "      <td>1</td>\n",
       "      <td>0</td>\n",
       "    </tr>\n",
       "    <tr>\n",
       "      <th>4</th>\n",
       "      <td>2022-01-05</td>\n",
       "      <td>1</td>\n",
       "      <td>223.50</td>\n",
       "      <td>0</td>\n",
       "      <td>0</td>\n",
       "    </tr>\n",
       "  </tbody>\n",
       "</table>\n",
       "</div>"
      ],
      "text/plain": [
       "         date  store   sales  promo  holiday\n",
       "0  2022-01-01      1  184.78      0        0\n",
       "1  2022-01-02      1  192.62      0        0\n",
       "2  2022-01-03      1  212.68      0        0\n",
       "3  2022-01-04      1  249.58      1        0\n",
       "4  2022-01-05      1  223.50      0        0"
      ]
     },
     "execution_count": 79,
     "metadata": {},
     "output_type": "execute_result"
    }
   ],
   "source": [
    "df.head()"
   ]
  },
  {
   "cell_type": "code",
   "execution_count": 81,
   "id": "790dcc33-585e-48d3-8d5e-0afafc5b9aeb",
   "metadata": {},
   "outputs": [
    {
     "name": "stdout",
     "output_type": "stream",
     "text": [
      "<class 'pandas.core.frame.DataFrame'>\n",
      "RangeIndex: 7300 entries, 0 to 7299\n",
      "Data columns (total 5 columns):\n",
      " #   Column   Non-Null Count  Dtype  \n",
      "---  ------   --------------  -----  \n",
      " 0   date     7300 non-null   object \n",
      " 1   store    7300 non-null   int64  \n",
      " 2   sales    7300 non-null   float64\n",
      " 3   promo    7300 non-null   int64  \n",
      " 4   holiday  7300 non-null   int64  \n",
      "dtypes: float64(1), int64(3), object(1)\n",
      "memory usage: 285.3+ KB\n"
     ]
    }
   ],
   "source": [
    "df.info()"
   ]
  },
  {
   "cell_type": "code",
   "execution_count": 83,
   "id": "853deb1f-4eb0-4362-9c6a-344dcab8e0bd",
   "metadata": {},
   "outputs": [],
   "source": [
    "sum_of_sales = df[\"sales\"].sum()"
   ]
  },
  {
   "cell_type": "code",
   "execution_count": 85,
   "id": "1d2f771e-351b-489c-a393-e2d2dee2f138",
   "metadata": {},
   "outputs": [
    {
     "name": "stdout",
     "output_type": "stream",
     "text": [
      "1667572.37\n"
     ]
    }
   ],
   "source": [
    "print(sum_of_sales)"
   ]
  },
  {
   "cell_type": "code",
   "execution_count": 87,
   "id": "6971e216-514f-41a6-bf67-745e9ea2d165",
   "metadata": {},
   "outputs": [],
   "source": [
    "sales_per_stores = df.groupby('store')['sales'].sum()"
   ]
  },
  {
   "cell_type": "code",
   "execution_count": 89,
   "id": "ded2e681-0696-4f56-9279-90d1558d9b98",
   "metadata": {},
   "outputs": [
    {
     "name": "stdout",
     "output_type": "stream",
     "text": [
      "store\n",
      "1     169912.36\n",
      "2     159293.35\n",
      "3     159553.75\n",
      "4     173784.73\n",
      "5     161479.82\n",
      "6     172590.88\n",
      "7     169942.26\n",
      "8     163896.68\n",
      "9     178600.69\n",
      "10    158517.85\n",
      "Name: sales, dtype: float64\n"
     ]
    }
   ],
   "source": [
    "print(sales_per_stores)"
   ]
  },
  {
   "cell_type": "code",
   "execution_count": 93,
   "id": "1101a1a7-4c0c-4c87-82ab-560272806889",
   "metadata": {},
   "outputs": [
    {
     "data": {
      "text/plain": [
       "<Axes: title={'center': 'Sales per Store'}, xlabel='Store', ylabel='Sales'>"
      ]
     },
     "execution_count": 93,
     "metadata": {},
     "output_type": "execute_result"
    },
    {
     "data": {
      "image/png": "[encoded data removed]",
      "text/plain": [
       "<Figure size 640x480 with 1 Axes>"
      ]
     },
     "metadata": {},
     "output_type": "display_data"
    }
   ],
   "source": [
    "sales_per_stores.plot(kind='bar', title='Sales per Store', ylabel='Sales', xlabel='Store')"
   ]
  },
  {
   "cell_type": "code",
   "execution_count": 95,
   "id": "21539550-edd6-452d-9fae-bddd67bd8abf",
   "metadata": {},
   "outputs": [],
   "source": [
    "df['date'] = pd.to_datetime(df['date'])"
   ]
  },
  {
   "cell_type": "code",
   "execution_count": 97,
   "id": "4329f71c-908b-4b5c-8fae-01bd812a09a8",
   "metadata": {},
   "outputs": [],
   "source": [
    "sales_by_date = df.groupby('date')['sales'].sum()"
   ]
  },
  {
   "cell_type": "code",
   "execution_count": 99,
   "id": "ebf0c7e9-bbbf-4c59-8fe3-2e20a9264fb3",
   "metadata": {},
   "outputs": [
    {
     "data": {
      "text/plain": [
       "date\n",
       "2022-01-01    1947.47\n",
       "2022-01-02    1942.29\n",
       "2022-01-03    2099.73\n",
       "2022-01-04    2292.64\n",
       "2022-01-05    2274.62\n",
       "               ...   \n",
       "2023-12-27    2587.33\n",
       "2023-12-28    2542.60\n",
       "2023-12-29    2420.24\n",
       "2023-12-30    2324.81\n",
       "2023-12-31    2279.99\n",
       "Name: sales, Length: 730, dtype: float64"
      ]
     },
     "execution_count": 99,
     "metadata": {},
     "output_type": "execute_result"
    }
   ],
   "source": [
    "sales_by_date"
   ]
  },
  {
   "cell_type": "code",
   "execution_count": 101,
   "id": "034f6ffc-5ad1-4238-aa16-769a72fb7eec",
   "metadata": {},
   "outputs": [
    {
     "data": {
      "text/plain": [
       "<Axes: title={'center': 'Sales by date'}, xlabel='date', ylabel='sales'>"
      ]
     },
     "execution_count": 101,
     "metadata": {},
     "output_type": "execute_result"
    },
    {
     "data": {
      "image/png": "[encoded data removed]",
      "text/plain": [
       "<Figure size 500x500 with 1 Axes>"
      ]
     },
     "metadata": {},
     "output_type": "display_data"
    }
   ],
   "source": [
    "sales_by_date.plot(title='Sales by date', ylabel='sales', xlabel='date', figsize=(5,5))"
   ]
  },
  {
   "cell_type": "code",
   "execution_count": 57,
   "id": "6bdfc4ba-b13f-4a14-aaf7-78692b3ff43f",
   "metadata": {},
   "outputs": [
    {
     "data": {
      "text/html": [
       "<div>\n",
       "<style scoped>\n",
       "    .dataframe tbody tr th:only-of-type {\n",
       "        vertical-align: middle;\n",
       "    }\n",
       "\n",
       "    .dataframe tbody tr th {\n",
       "        vertical-align: top;\n",
       "    }\n",
       "\n",
       "    .dataframe thead th {\n",
       "        text-align: right;\n",
       "    }\n",
       "</style>\n",
       "<table border=\"1\" class=\"dataframe\">\n",
       "  <thead>\n",
       "    <tr style=\"text-align: right;\">\n",
       "      <th></th>\n",
       "      <th>date</th>\n",
       "      <th>store</th>\n",
       "      <th>sales</th>\n",
       "      <th>promo</th>\n",
       "      <th>holiday</th>\n",
       "    </tr>\n",
       "  </thead>\n",
       "  <tbody>\n",
       "    <tr>\n",
       "      <th>0</th>\n",
       "      <td>2022-01-01</td>\n",
       "      <td>1</td>\n",
       "      <td>184.78</td>\n",
       "      <td>0</td>\n",
       "      <td>0</td>\n",
       "    </tr>\n",
       "    <tr>\n",
       "      <th>1</th>\n",
       "      <td>2022-01-02</td>\n",
       "      <td>1</td>\n",
       "      <td>192.62</td>\n",
       "      <td>0</td>\n",
       "      <td>0</td>\n",
       "    </tr>\n",
       "    <tr>\n",
       "      <th>2</th>\n",
       "      <td>2022-01-03</td>\n",
       "      <td>1</td>\n",
       "      <td>212.68</td>\n",
       "      <td>0</td>\n",
       "      <td>0</td>\n",
       "    </tr>\n",
       "    <tr>\n",
       "      <th>3</th>\n",
       "      <td>2022-01-04</td>\n",
       "      <td>1</td>\n",
       "      <td>249.58</td>\n",
       "      <td>1</td>\n",
       "      <td>0</td>\n",
       "    </tr>\n",
       "    <tr>\n",
       "      <th>4</th>\n",
       "      <td>2022-01-05</td>\n",
       "      <td>1</td>\n",
       "      <td>223.50</td>\n",
       "      <td>0</td>\n",
       "      <td>0</td>\n",
       "    </tr>\n",
       "  </tbody>\n",
       "</table>\n",
       "</div>"
      ],
      "text/plain": [
       "        date  store   sales  promo  holiday\n",
       "0 2022-01-01      1  184.78      0        0\n",
       "1 2022-01-02      1  192.62      0        0\n",
       "2 2022-01-03      1  212.68      0        0\n",
       "3 2022-01-04      1  249.58      1        0\n",
       "4 2022-01-05      1  223.50      0        0"
      ]
     },
     "execution_count": 57,
     "metadata": {},
     "output_type": "execute_result"
    }
   ],
   "source": [
    "df.head()"
   ]
  },
  {
   "cell_type": "code",
   "execution_count": 103,
   "id": "cb70bdad-d1f5-4518-aef0-5af3c6f7b8d8",
   "metadata": {},
   "outputs": [
    {
     "data": {
      "text/plain": [
       "promo\n",
       "0    1295659.90\n",
       "1     371912.47\n",
       "Name: sales, dtype: float64"
      ]
     },
     "execution_count": 103,
     "metadata": {},
     "output_type": "execute_result"
    }
   ],
   "source": [
    "sales_by_promo = df.groupby('promo')['sales'].sum()\n",
    "sales_by_promo"
   ]
  },
  {
   "cell_type": "code",
   "execution_count": 105,
   "id": "a2ce4112-7669-49e2-a858-b9e77e660bc0",
   "metadata": {},
   "outputs": [
    {
     "data": {
      "text/plain": [
       "<Axes: title={'center': 'Promo vs Non promo'}, xlabel='promo', ylabel='sales'>"
      ]
     },
     "execution_count": 105,
     "metadata": {},
     "output_type": "execute_result"
    },
    {
     "data": {
      "image/png": "[encoded data removed]",
      "text/plain": [
       "<Figure size 500x500 with 1 Axes>"
      ]
     },
     "metadata": {},
     "output_type": "display_data"
    }
   ],
   "source": [
    "sales_by_promo.plot(kind= 'bar',title = 'Promo vs Non promo',ylabel='sales', xlabel='promo', figsize=(5,5))"
   ]
  },
  {
   "cell_type": "code",
   "execution_count": 111,
   "id": "a4bc15a3-9c05-4ae9-afc8-92ac5c6c3cc2",
   "metadata": {},
   "outputs": [
    {
     "name": "stdout",
     "output_type": "stream",
     "text": [
      "holiday\n",
      "0    1467298.30\n",
      "1     200274.07\n",
      "Name: sales, dtype: float64\n"
     ]
    }
   ],
   "source": [
    "holiday_sales = df.groupby('holiday')['sales'].sum()\n",
    "print(holiday_sales)"
   ]
  },
  {
   "cell_type": "code",
   "execution_count": 113,
   "id": "eb7a5277-bf16-41e0-9f3f-6325f223406f",
   "metadata": {},
   "outputs": [
    {
     "data": {
      "text/plain": [
       "<Axes: title={'center': 'Holiday vs Non holiday Sales'}, xlabel='Holiday', ylabel='sales'>"
      ]
     },
     "execution_count": 113,
     "metadata": {},
     "output_type": "execute_result"
    },
    {
     "data": {
      "image/png": "[encoded data removed]",
      "text/plain": [
       "<Figure size 400x500 with 1 Axes>"
      ]
     },
     "metadata": {},
     "output_type": "display_data"
    }
   ],
   "source": [
    "holiday_sales.plot(kind='bar',title = 'Holiday vs Non holiday Sales',ylabel='sales',xlabel='Holiday',figsize=(4,5))"
   ]
  },
  {
   "cell_type": "code",
   "execution_count": 115,
   "id": "919f818e-8e39-4d6a-9988-99ca411d21be",
   "metadata": {},
   "outputs": [
    {
     "name": "stdout",
     "output_type": "stream",
     "text": [
      "holiday\n",
      "0    6540\n",
      "1     760\n",
      "Name: count, dtype: int64\n"
     ]
    }
   ],
   "source": [
    "print(df['holiday'].value_counts())"
   ]
  },
  {
   "cell_type": "code",
   "execution_count": null,
   "id": "5c3e0477-1fe4-4a7d-b300-b645554b8c72",
   "metadata": {},
   "outputs": [],
   "source": []
  }
 ],
 "metadata": {
  "kernelspec": {
   "display_name": "Python 3 (ipykernel)",
   "language": "python",
   "name": "python3"
  },
  "language_info": {
   "codemirror_mode": {
    "name": "ipython",
    "version": 3
   },
   "file_extension": ".py",
   "mimetype": "text/x-python",
   "name": "python",
   "nbconvert_exporter": "python",
   "pygments_lexer": "ipython3",
   "version": "3.12.4"
  }
 },
 "nbformat": 4,
 "nbformat_minor": 5
}
